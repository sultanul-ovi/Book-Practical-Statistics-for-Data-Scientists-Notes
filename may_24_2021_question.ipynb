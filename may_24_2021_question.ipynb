{
 "metadata": {
  "language_info": {
   "codemirror_mode": {
    "name": "ipython",
    "version": 3
   },
   "file_extension": ".py",
   "mimetype": "text/x-python",
   "name": "python",
   "nbconvert_exporter": "python",
   "pygments_lexer": "ipython3",
   "version": "3.9.2"
  },
  "orig_nbformat": 2,
  "kernelspec": {
   "name": "python392jvsc74a57bd07a25f16395d0e3b52424c6d79b514f6b6191b2d10e2705ad88abde9ab5c9a6fa",
   "display_name": "Python 3.9.2 64-bit ('temp': conda)"
  }
 },
 "nbformat": 4,
 "nbformat_minor": 2,
 "cells": [
  {
   "source": [
    "# May 24th 2021 Question\n",
    "\n",
    "**All credit for the question to interviewqs.com**\n",
    "\n",
    "Answers are my own"
   ],
   "cell_type": "markdown",
   "metadata": {}
  },
  {
   "source": [
    "Suppose you're given an array of n elements. Within this array, return the greatest value of a single element  that is the product of two elements contained within the same array. If no such product exists, print N/A. Lastly, you can assume that the values within the array are positive integers.\n",
    "\n",
    "### For example:\n",
    "\n",
    "\n",
    "    \n",
    "    \n",
    "**Input:** array = \\[2, 2, 4, 5, 9] \n",
    "    \n",
    "\n",
    "**Output:** 4 #(since 2 * 2 = 4)\n",
    "    \n",
    "\n",
    "\n",
    "    \n",
    "\n",
    "**Input:** array = \\[1, 3, 4, 7, 10] \n",
    "    \n",
    "\n",
    "**Output:** 10 #(since 1 * 10 = 10)\n",
    "    \n",
    "\n",
    "\n",
    "    \n",
    "\n",
    "**Input:** array = \\[3, 3, 4, 7, 10] \n",
    "    \n",
    "\n",
    "**Output:** N/A"
   ],
   "cell_type": "markdown",
   "metadata": {}
  },
  {
   "cell_type": "code",
   "execution_count": 17,
   "metadata": {},
   "outputs": [
    {
     "output_type": "execute_result",
     "data": {
      "text/plain": [
       "[3, 3, 4, 7, 10]"
      ]
     },
     "metadata": {},
     "execution_count": 17
    }
   ],
   "source": [
    "input = [3, 3, 4, 7, 10]\n",
    "input"
   ]
  },
  {
   "cell_type": "code",
   "execution_count": 18,
   "metadata": {},
   "outputs": [
    {
     "output_type": "stream",
     "name": "stdout",
     "text": [
      "N/A\n"
     ]
    }
   ],
   "source": [
    "all_multiplied = [] # Create empty dataframe for all multiplied values\n",
    "\n",
    "for i in range(0, len(input) - 1): # Multiply every element of the list with all other elements\n",
    "    for z in range(i, len(input)):\n",
    "        all_multiplied.append(input[i] * input[z])\n",
    "\n",
    "results = [i for i in all_multiplied if i in input] # Check which elements of the list are in the input list\n",
    "\n",
    "if len(results) != 0: # Output the max value of the list if there are any elements \n",
    "    print(max(results))\n",
    "else:\n",
    "    print(\"N/A\")"
   ]
  },
  {
   "cell_type": "code",
   "execution_count": null,
   "metadata": {},
   "outputs": [],
   "source": [
    "all_multiplied = []\n",
    "\n",
    "for i in range(0, len(input) - 1): \n",
    "    for z in range(i, len(input)):\n",
    "        all_multiplied.append(input[i] * input[z])\n",
    "\n",
    "results = [i for i in all_multiplied if i in input]\n",
    "\n",
    "if len(results) != 0:\n",
    "    print(max(results))\n",
    "else:\n",
    "    print(\"N/A\")"
   ]
  }
 ]
}
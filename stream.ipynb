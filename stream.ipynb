{
 "metadata": {
  "language_info": {
   "codemirror_mode": {
    "name": "ipython",
    "version": 3
   },
   "file_extension": ".py",
   "mimetype": "text/x-python",
   "name": "python",
   "nbconvert_exporter": "python",
   "pygments_lexer": "ipython3",
   "version": "3.9.2"
  },
  "orig_nbformat": 2,
  "kernelspec": {
   "name": "python392jvsc74a57bd0d8f0d3f0ce02fd1ef784d7cc58633154c238f634a593ac7bb404944b1f4041fa",
   "display_name": "Python 3.9.2 64-bit ('ipd-dash': conda)"
  }
 },
 "nbformat": 4,
 "nbformat_minor": 2,
 "cells": [
  {
   "cell_type": "code",
   "execution_count": 2,
   "metadata": {},
   "outputs": [],
   "source": [
    "import requests\n",
    "import secrets"
   ]
  },
  {
   "source": [
    "# Outline"
   ],
   "cell_type": "markdown",
   "metadata": {}
  },
  {
   "source": [
    "1. Connect to Notion data\n",
    "- Created a Notion integration key\n",
    "- Save key in secrets.py file\n",
    "- Allowed the Notion Integration key to access the page we want to share\n",
    "2. Decrypt data from Notion\n",
    "3. Connect to Discord\n",
    "4. Push Data to Discord\n",
    "5. Discuss how to productionalize this"
   ],
   "cell_type": "markdown",
   "metadata": {}
  },
  {
   "cell_type": "code",
   "execution_count": 5,
   "metadata": {},
   "outputs": [],
   "source": [
    "base_url = \"https://api.notion.com/v1/databases/\"\n",
    "database_id = \"ea6743fadf354087a6fc960c960070c8\""
   ]
  },
  {
   "cell_type": "code",
   "execution_count": null,
   "metadata": {},
   "outputs": [],
   "source": [
    "curl 'https://api.notion.com/v1/databases/668d797c-76fa-4934-9b05-ad288df2d136' \\\n",
    "  -H 'Authorization: Bearer '\"$NOTION_API_KEY\"'' \\\n",
    "  -H 'Notion-Version: 2021-05-13'"
   ]
  },
  {
   "cell_type": "code",
   "execution_count": 22,
   "metadata": {},
   "outputs": [],
   "source": [
    "header = {\"Authorization\":secrets.KEY, \"Notion-Version\":\"2021-05-13\"}\n",
    "query = {\"filter\": {\"property\": \"Sync\",\"checkbox\": {\"equals\": True}}}"
   ]
  },
  {
   "cell_type": "code",
   "execution_count": 23,
   "metadata": {},
   "outputs": [
    {
     "output_type": "execute_result",
     "data": {
      "text/plain": [
       "<Response [200]>"
      ]
     },
     "metadata": {},
     "execution_count": 23
    }
   ],
   "source": [
    "response = requests.post(base_url + database_id + \"/query\", headers=header, data=query)\n",
    "response"
   ]
  },
  {
   "source": [
    "## Information I want\n",
    "\n",
    "- Title\n",
    "- Description\n",
    "- url"
   ],
   "cell_type": "markdown",
   "metadata": {}
  },
  {
   "cell_type": "code",
   "execution_count": 27,
   "metadata": {},
   "outputs": [],
   "source": [
    "def dictionary_decoder(x):\n",
    "    return [i for i in x]"
   ]
  },
  {
   "cell_type": "code",
   "execution_count": 39,
   "metadata": {},
   "outputs": [
    {
     "output_type": "execute_result",
     "data": {
      "text/plain": [
       "'Denver Food Retail Locations 2020'"
      ]
     },
     "metadata": {},
     "execution_count": 39
    }
   ],
   "source": [
    "title = response.json()[\"results\"][0][\"properties\"][\"Name\"][\"title\"][0][\"plain_text\"]\n",
    "title"
   ]
  },
  {
   "cell_type": "code",
   "execution_count": 46,
   "metadata": {},
   "outputs": [
    {
     "output_type": "execute_result",
     "data": {
      "text/plain": [
       "'Tabular and Shape data for all Food Retail locations in Denver'"
      ]
     },
     "metadata": {},
     "execution_count": 46
    }
   ],
   "source": [
    "description = response.json()[\"results\"][0][\"properties\"][\"Description\"][\"rich_text\"][0][\"plain_text\"]\n",
    "description"
   ]
  },
  {
   "cell_type": "code",
   "execution_count": 50,
   "metadata": {},
   "outputs": [
    {
     "output_type": "execute_result",
     "data": {
      "text/plain": [
       "'https://www.denvergov.org/opendata/dataset/city-and-county-of-denver-food-retail-locations'"
      ]
     },
     "metadata": {},
     "execution_count": 50
    }
   ],
   "source": [
    "url = response.json()[\"results\"][0][\"properties\"][\"URL\"][\"url\"]\n",
    "url"
   ]
  },
  {
   "cell_type": "code",
   "execution_count": 52,
   "metadata": {},
   "outputs": [
    {
     "output_type": "execute_result",
     "data": {
      "text/plain": [
       "'Denver Food Retail Locations 2020 \\n Tabular and Shape data for all Food Retail locations in Denver \\n https://www.denvergov.org/opendata/dataset/city-and-county-of-denver-food-retail-locations'"
      ]
     },
     "metadata": {},
     "execution_count": 52
    }
   ],
   "source": [
    "output_to_discord = title + \"\\n \" + description + \"\\n \" + url\n",
    "output_to_discord"
   ]
  },
  {
   "cell_type": "code",
   "execution_count": 54,
   "metadata": {},
   "outputs": [],
   "source": [
    "data = {\n",
    "    \"content\" : output_to_discord,\n",
    "    \"username\" : \"Streaming User\"\n",
    "}"
   ]
  },
  {
   "cell_type": "code",
   "execution_count": 55,
   "metadata": {},
   "outputs": [
    {
     "output_type": "execute_result",
     "data": {
      "text/plain": [
       "<Response [204]>"
      ]
     },
     "metadata": {},
     "execution_count": 55
    }
   ],
   "source": [
    "requests.post(secrets.WEBHOOK_URL, data=data)"
   ]
  },
  {
   "cell_type": "code",
   "execution_count": null,
   "metadata": {},
   "outputs": [],
   "source": []
  }
 ]
}